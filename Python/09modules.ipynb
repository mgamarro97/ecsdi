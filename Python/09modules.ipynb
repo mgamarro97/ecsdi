{
 "cells": [
  {
   "cell_type": "markdown",
   "metadata": {},
   "source": [
    "# Modulos"
   ]
  },
  {
   "cell_type": "markdown",
   "metadata": {},
   "source": [
    "Las librerias de python se denominan modulos, definen funciones y/o clases que podemos importar en nuestro programa"
   ]
  },
  {
   "cell_type": "markdown",
   "metadata": {},
   "source": [
    "Podemos importar definiciones individuales, por ejemplo aqui importamos la funcion ctime del modulo time que convierte en milisegundos desde el epoch unix a una fecha, o la funcion que da el tiempo local en la estructura definida en time"
   ]
  },
  {
   "cell_type": "code",
   "execution_count": 2,
   "metadata": {
    "collapsed": false
   },
   "outputs": [
    {
     "data": {
      "text/plain": [
       "'Thu Feb 12 17:21:16 2009'"
      ]
     },
     "execution_count": 2,
     "metadata": {},
     "output_type": "execute_result"
    }
   ],
   "source": [
    "from time import ctime\n",
    "\n",
    "ctime(1234455676)"
   ]
  },
  {
   "cell_type": "code",
   "execution_count": 3,
   "metadata": {
    "collapsed": false
   },
   "outputs": [
    {
     "data": {
      "text/plain": [
       "time.struct_time(tm_year=2016, tm_mon=2, tm_mday=17, tm_hour=10, tm_min=5, tm_sec=2, tm_wday=2, tm_yday=48, tm_isdst=0)"
      ]
     },
     "execution_count": 3,
     "metadata": {},
     "output_type": "execute_result"
    }
   ],
   "source": [
    "from time import localtime\n",
    "\n",
    "localtime()"
   ]
  },
  {
   "cell_type": "markdown",
   "metadata": {},
   "source": [
    "Podemos asignar un alias a lo que importamos"
   ]
  },
  {
   "cell_type": "code",
   "execution_count": 4,
   "metadata": {
    "collapsed": false
   },
   "outputs": [
    {
     "data": {
      "text/plain": [
       "time.struct_time(tm_year=2016, tm_mon=2, tm_mday=17, tm_hour=10, tm_min=5, tm_sec=2, tm_wday=2, tm_yday=48, tm_isdst=0)"
      ]
     },
     "execution_count": 4,
     "metadata": {},
     "output_type": "execute_result"
    }
   ],
   "source": [
    "from time import localtime as lt\n",
    "lt()"
   ]
  },
  {
   "cell_type": "markdown",
   "metadata": {},
   "source": [
    "Podemos importar todas las definiciones de un modulo y a partir de ahi podremos usarlas indicando el nombre del modulo al que pertenecen"
   ]
  },
  {
   "cell_type": "code",
   "execution_count": 5,
   "metadata": {
    "collapsed": false
   },
   "outputs": [
    {
     "data": {
      "text/plain": [
       "'Sat Jul 10 23:26:53 2010'"
      ]
     },
     "execution_count": 5,
     "metadata": {},
     "output_type": "execute_result"
    }
   ],
   "source": [
    "import time\n",
    "\n",
    "time.ctime(1278797213)"
   ]
  },
  {
   "cell_type": "markdown",
   "metadata": {},
   "source": [
    "O podemos importar todas las definiciones de modulo indicando el nombre que usaremos para acceder a ellas, en este caso importamos la estructura heapq que permite usar las listas como un heap"
   ]
  },
  {
   "cell_type": "code",
   "execution_count": 6,
   "metadata": {
    "collapsed": false
   },
   "outputs": [
    {
     "data": {
      "text/plain": [
       "[-1, 1, 3, 7]"
      ]
     },
     "execution_count": 6,
     "metadata": {},
     "output_type": "execute_result"
    }
   ],
   "source": [
    "import heapq as hp \n",
    "\n",
    "a = []\n",
    "hp.heappush(a, 1)\n",
    "hp.heappush(a, 7)\n",
    "hp.heappush(a, 3)\n",
    "hp.heappush(a, -1)\n",
    "\n",
    "a"
   ]
  },
  {
   "cell_type": "code",
   "execution_count": 7,
   "metadata": {
    "collapsed": false
   },
   "outputs": [
    {
     "data": {
      "text/plain": [
       "-1"
      ]
     },
     "execution_count": 7,
     "metadata": {},
     "output_type": "execute_result"
    }
   ],
   "source": [
    "hp.heappop(a)"
   ]
  },
  {
   "cell_type": "markdown",
   "metadata": {},
   "source": [
    "Python nos permite acceder a la informacion de los modulos a partir de ciertos atributos especiales, **\\__dict__** da toda la informacion disponible"
   ]
  },
  {
   "cell_type": "code",
   "execution_count": 8,
   "metadata": {
    "collapsed": false
   },
   "outputs": [
    {
     "data": {
      "text/plain": [
       "{'__doc__': 'This module provides various functions to manipulate time values.\\n\\nThere are two standard representations of time.  One is the number\\nof seconds since the Epoch, in UTC (a.k.a. GMT).  It may be an integer\\nor a floating point number (to represent fractions of seconds).\\nThe Epoch is system-defined; on Unix, it is generally January 1st, 1970.\\nThe actual value can be retrieved by calling gmtime(0).\\n\\nThe other representation is a tuple of 9 integers giving local time.\\nThe tuple items are:\\n  year (four digits, e.g. 1998)\\n  month (1-12)\\n  day (1-31)\\n  hours (0-23)\\n  minutes (0-59)\\n  seconds (0-59)\\n  weekday (0-6, Monday is 0)\\n  Julian day (day in the year, 1-366)\\n  DST (Daylight Savings Time) flag (-1, 0 or 1)\\nIf the DST flag is 0, the time is given in the regular time zone;\\nif it is 1, the time is given in the DST time zone;\\nif it is -1, mktime() should guess based on the date and time.\\n\\nVariables:\\n\\ntimezone -- difference in seconds between UTC and local standard time\\naltzone -- difference in  seconds between UTC and local DST time\\ndaylight -- whether local time should reflect DST\\ntzname -- tuple of (standard time zone name, DST time zone name)\\n\\nFunctions:\\n\\ntime() -- return current time in seconds since the Epoch as a float\\nclock() -- return CPU time since process start as a float\\nsleep() -- delay for a number of seconds given as a float\\ngmtime() -- convert seconds since Epoch to UTC tuple\\nlocaltime() -- convert seconds since Epoch to local time tuple\\nasctime() -- convert time tuple to string\\nctime() -- convert time in seconds to string\\nmktime() -- convert local time tuple to seconds since Epoch\\nstrftime() -- convert time tuple to string according to format specification\\nstrptime() -- parse string to time tuple according to format specification\\ntzset() -- change the local timezone',\n",
       " '__file__': '/usr/lib64/python2.7/lib-dynload/timemodule.so',\n",
       " '__name__': 'time',\n",
       " '__package__': None,\n",
       " 'accept2dyear': 1,\n",
       " 'altzone': -7200,\n",
       " 'asctime': <function time.asctime>,\n",
       " 'clock': <function time.clock>,\n",
       " 'ctime': <function time.ctime>,\n",
       " 'daylight': 1,\n",
       " 'gmtime': <function time.gmtime>,\n",
       " 'localtime': <function time.localtime>,\n",
       " 'mktime': <function time.mktime>,\n",
       " 'sleep': <function time.sleep>,\n",
       " 'strftime': <function time.strftime>,\n",
       " 'strptime': <function time.strptime>,\n",
       " 'struct_time': time.struct_time,\n",
       " 'time': <function time.time>,\n",
       " 'timezone': -3600,\n",
       " 'tzname': ('CET', 'CEST'),\n",
       " 'tzset': <function time.tzset>}"
      ]
     },
     "execution_count": 8,
     "metadata": {},
     "output_type": "execute_result"
    }
   ],
   "source": [
    "time.__dict__"
   ]
  },
  {
   "cell_type": "markdown",
   "metadata": {},
   "source": [
    "o solo la documentacion"
   ]
  },
  {
   "cell_type": "code",
   "execution_count": 9,
   "metadata": {
    "collapsed": false
   },
   "outputs": [
    {
     "data": {
      "text/plain": [
       "'This module provides various functions to manipulate time values.\\n\\nThere are two standard representations of time.  One is the number\\nof seconds since the Epoch, in UTC (a.k.a. GMT).  It may be an integer\\nor a floating point number (to represent fractions of seconds).\\nThe Epoch is system-defined; on Unix, it is generally January 1st, 1970.\\nThe actual value can be retrieved by calling gmtime(0).\\n\\nThe other representation is a tuple of 9 integers giving local time.\\nThe tuple items are:\\n  year (four digits, e.g. 1998)\\n  month (1-12)\\n  day (1-31)\\n  hours (0-23)\\n  minutes (0-59)\\n  seconds (0-59)\\n  weekday (0-6, Monday is 0)\\n  Julian day (day in the year, 1-366)\\n  DST (Daylight Savings Time) flag (-1, 0 or 1)\\nIf the DST flag is 0, the time is given in the regular time zone;\\nif it is 1, the time is given in the DST time zone;\\nif it is -1, mktime() should guess based on the date and time.\\n\\nVariables:\\n\\ntimezone -- difference in seconds between UTC and local standard time\\naltzone -- difference in  seconds between UTC and local DST time\\ndaylight -- whether local time should reflect DST\\ntzname -- tuple of (standard time zone name, DST time zone name)\\n\\nFunctions:\\n\\ntime() -- return current time in seconds since the Epoch as a float\\nclock() -- return CPU time since process start as a float\\nsleep() -- delay for a number of seconds given as a float\\ngmtime() -- convert seconds since Epoch to UTC tuple\\nlocaltime() -- convert seconds since Epoch to local time tuple\\nasctime() -- convert time tuple to string\\nctime() -- convert time in seconds to string\\nmktime() -- convert local time tuple to seconds since Epoch\\nstrftime() -- convert time tuple to string according to format specification\\nstrptime() -- parse string to time tuple according to format specification\\ntzset() -- change the local timezone'"
      ]
     },
     "execution_count": 9,
     "metadata": {},
     "output_type": "execute_result"
    }
   ],
   "source": [
    "time.__doc__"
   ]
  },
  {
   "cell_type": "markdown",
   "metadata": {},
   "source": [
    "El atributo **\\__all__** permite acceder a todas las definiciones del modulo (si esta definida)"
   ]
  },
  {
   "cell_type": "code",
   "execution_count": 12,
   "metadata": {
    "collapsed": false
   },
   "outputs": [
    {
     "data": {
      "text/plain": [
       "['heappush',\n",
       " 'heappop',\n",
       " 'heapify',\n",
       " 'heapreplace',\n",
       " 'merge',\n",
       " 'nlargest',\n",
       " 'nsmallest',\n",
       " 'heappushpop']"
      ]
     },
     "execution_count": 12,
     "metadata": {},
     "output_type": "execute_result"
    }
   ],
   "source": [
    "hp.__all__"
   ]
  },
  {
   "cell_type": "code",
   "execution_count": null,
   "metadata": {
    "collapsed": true
   },
   "outputs": [],
   "source": []
  }
 ],
 "metadata": {
  "kernelspec": {
   "display_name": "Python 2",
   "language": "python",
   "name": "python2"
  },
  "language_info": {
   "codemirror_mode": {
    "name": "ipython",
    "version": 2
   },
   "file_extension": ".py",
   "mimetype": "text/x-python",
   "name": "python",
   "nbconvert_exporter": "python",
   "pygments_lexer": "ipython2",
   "version": "2.7.11"
  }
 },
 "nbformat": 4,
 "nbformat_minor": 0
}
