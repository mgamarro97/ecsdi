{
 "cells": [
  {
   "cell_type": "markdown",
   "metadata": {},
   "source": [
    "# Clases"
   ]
  },
  {
   "cell_type": "markdown",
   "metadata": {},
   "source": [
    "Definimos clases con **class**, que se documentan igual que las funciones. El constructor de las clases se llama **\\__init__** (atencion a los dobles subrayados), la variable de autoreferencia se llama **self**. Las funciones que comienzan y terminan en doble subrayado son especiales, por ejemplo **\\__str__** permite definir la representacion del objeto como string, se usan para operaciones sobrecargadas o para ocultar metodos internos."
   ]
  },
  {
   "cell_type": "code",
   "execution_count": 1,
   "metadata": {
    "collapsed": false
   },
   "outputs": [
    {
     "name": "stdout",
     "output_type": "stream",
     "text": [
      "pepe 33\n"
     ]
    }
   ],
   "source": [
    "class persona():\n",
    "    \"\"\"\n",
    "    Clase de personas\n",
    "    \"\"\"\n",
    "    def __init__(self, nombre, edad):\n",
    "        self.nombre = nombre\n",
    "        self.edad = edad\n",
    "        \n",
    "    def __str__(self):\n",
    "        return self.nombre + ' ' + str(self.edad)\n",
    "        \n",
    "        \n",
    "        \n",
    "pepe = persona('pepe', 33)\n",
    "\n",
    "print (pepe)"
   ]
  },
  {
   "cell_type": "markdown",
   "metadata": {},
   "source": [
    "De hecho la definicion de la clase no fija absolutamente nada sobre cuales son los atributos que tiene, pudiendolos crear dinamicamente"
   ]
  },
  {
   "cell_type": "code",
   "execution_count": 2,
   "metadata": {
    "collapsed": false
   },
   "outputs": [
    {
     "name": "stdout",
     "output_type": "stream",
     "text": [
      "pepe 33\n",
      "su casa\n"
     ]
    }
   ],
   "source": [
    "pepe.domicilio = 'su casa'\n",
    "\n",
    "print (pepe)\n",
    "\n",
    "print (pepe.domicilio)"
   ]
  },
  {
   "cell_type": "markdown",
   "metadata": {},
   "source": [
    "Y de hecho todos los atributos son publicos y visibles (no se requieren definir funciones de acceso). Por convencion metodos y atributos ocultos empiezan con dos subrayados, pero solo es una convencion. "
   ]
  },
  {
   "cell_type": "code",
   "execution_count": 3,
   "metadata": {
    "collapsed": false
   },
   "outputs": [
    {
     "name": "stdout",
     "output_type": "stream",
     "text": [
      "pepe 28\n"
     ]
    }
   ],
   "source": [
    "pepe.edad = 28\n",
    "\n",
    "print (pepe)"
   ]
  },
  {
   "cell_type": "markdown",
   "metadata": {},
   "source": [
    "Tenemos herencia de clases, solo tenemos que indicar en la deficicion de que clase estamos heredando.\n",
    "\n",
    "Ahora podemos añadir nuevos atributos y metodos o redefinirlos. Los metodos de la clase padre se pueden llamar explicitamente."
   ]
  },
  {
   "cell_type": "code",
   "execution_count": 8,
   "metadata": {
    "collapsed": false
   },
   "outputs": [
    {
     "name": "stdout",
     "output_type": "stream",
     "text": [
      "juan 27 barcelona\n"
     ]
    }
   ],
   "source": [
    "class barcelones(persona):\n",
    "    ciudad = 'barcelona'\n",
    "    def __str__(self):\n",
    "        return persona.__str__(self) + ' ' + self.ciudad\n",
    "    \n",
    "juan = barcelones('juan', 27)\n",
    "\n",
    "print (juan)\n"
   ]
  },
  {
   "cell_type": "markdown",
   "metadata": {},
   "source": [
    "Podemos aprovechar la sobrecarga de operadores para incluir los operadores de la sintaxis de python en nuestras clases redefiniendo funciones especiales y dandole un significado acorde con el tipo https://docs.python.org/2/library/operator.html"
   ]
  },
  {
   "cell_type": "code",
   "execution_count": 10,
   "metadata": {
    "collapsed": false
   },
   "outputs": [
    {
     "name": "stdout",
     "output_type": "stream",
     "text": [
      "Hijo de juan y maria 0 barcelona\n"
     ]
    },
    {
     "data": {
      "text/plain": [
       "False"
      ]
     },
     "execution_count": 10,
     "metadata": {},
     "output_type": "execute_result"
    }
   ],
   "source": [
    "class barcelones_ext(barcelones):\n",
    "    def __add__(self, p):\n",
    "        return barcelones('Hijo de ' + self.nombre + ' y ' + p.nombre, 0)\n",
    "    \n",
    "    def __lt__(self, p):\n",
    "        return self.edad < p.edad\n",
    "\n",
    "juan = barcelones_ext('juan', 34)\n",
    "maria = barcelones_ext('maria', 32)\n",
    "\n",
    "hijo = juan + maria\n",
    "\n",
    "print (hijo)\n",
    "\n",
    "juan < maria"
   ]
  }
 ],
 "metadata": {
  "kernelspec": {
   "display_name": "Python 2",
   "language": "python",
   "name": "python2"
  },
  "language_info": {
   "codemirror_mode": {
    "name": "ipython",
    "version": 2
   },
   "file_extension": ".py",
   "mimetype": "text/x-python",
   "name": "python",
   "nbconvert_exporter": "python",
   "pygments_lexer": "ipython2",
   "version": "2.7.11"
  }
 },
 "nbformat": 4,
 "nbformat_minor": 0
}
